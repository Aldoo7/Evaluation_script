{
 "cells": [
  {
   "cell_type": "markdown",
   "metadata": {},
   "source": [
    "The provided code performs the following high-level concepts:\n",
    "\n",
    "1. **Data Loading**: The code loads data from the results of measurements for Clingo, DLV, and Vlog. It reads and processes the output files associated with each result type.\n",
    "\n",
    "2. **Data Trimming**: The code trims the loaded data by filtering out certain instances based on specific conditions. It removes instances where the time limit was reached or where data is missing. Additionally, it eliminates instances with high standard deviation in the results.\n",
    "\n",
    "3. **Comparison with Disjunctions**: The code compares the average execution times of Clingo and DLV for instances that include disjunctions in their rules. It visualizes the comparison using scatter plots and trend lines.\n",
    "\n",
    "4. **Comparison without Disjunctions**: The code performs a similar comparison of average execution times but for instances without disjunctions in their rules. It visualizes this comparison as well.\n",
    "\n",
    "5. **Conclusion**: Based on the comparisons, the code presents conclusions regarding the relative performance of Clingo, DLV, and Vlog in terms of execution times. It determines if Clingo is faster than DLV and if Vlog is noticeably slower than Clingo and DLV.\n",
    "\n",
    "Overall, the code focuses on analyzing and comparing the execution times of different rule-based systems (Clingo, DLV, and Vlog) under specific conditions, such as the presence or absence of disjunctions in the rules. It provides insights into the relative performance of these systems based on the available data."
   ]
  },
  {
   "cell_type": "code",
   "execution_count": 261,
   "metadata": {
    "ExecuteTime": {
     "end_time": "2023-07-03T03:45:08.315550Z",
     "start_time": "2023-07-03T03:45:08.227415Z"
    },
    "collapsed": true
   },
   "outputs": [],
   "source": [
    "import os, glob, pickle, re, numpy as np, pandas as pd, matplotlib.pyplot as plt\n",
    "\n",
    "RULE_FOLDER = '../_rules'\n",
    "RESULTS_FOLDER = '../_results/results'"
   ]
  },
  {
   "cell_type": "code",
   "execution_count": 262,
   "metadata": {
    "ExecuteTime": {
     "end_time": "2023-07-03T03:45:08.382308Z",
     "start_time": "2023-07-03T03:45:08.236788Z"
    }
   },
   "outputs": [],
   "source": [
    "def count_file_lines(file):\n",
    "    with open(file, 'r') as fp:\n",
    "        return sum(1 for line in fp)"
   ]
  },
  {
   "cell_type": "code",
   "execution_count": 263,
   "metadata": {
    "ExecuteTime": {
     "end_time": "2023-07-03T03:45:08.389303Z",
     "start_time": "2023-07-03T03:45:08.246357Z"
    }
   },
   "outputs": [],
   "source": [
    "def load_rules():\n",
    "    return {idx.split('/')[-1]: count_file_lines(idx) for idx in glob.glob(RULE_FOLDER + '/*')}"
   ]
  },
  {
   "cell_type": "code",
   "execution_count": 264,
   "metadata": {
    "ExecuteTime": {
     "end_time": "2023-07-03T03:45:08.391843Z",
     "start_time": "2023-07-03T03:45:08.258954Z"
    }
   },
   "outputs": [],
   "source": [
    "def count_file_lines(file):\n",
    "    with open(file, 'r') as fp:\n",
    "        return sum(1 for line in fp)"
   ]
  },
  {
   "cell_type": "code",
   "execution_count": 265,
   "metadata": {
    "ExecuteTime": {
     "end_time": "2023-07-03T03:45:08.397341Z",
     "start_time": "2023-07-03T03:45:08.265792Z"
    }
   },
   "outputs": [],
   "source": [
    "def load_rules():\n",
    "    return [\n",
    "            {\n",
    "                'id': idx.split('/')[-1],\n",
    "                'rules': count_file_lines(idx),\n",
    "            } for idx in glob.glob(RULE_FOLDER + '/*')\n",
    "    ]"
   ]
  },
  {
   "cell_type": "markdown",
   "metadata": {},
   "source": [
    "## Load the rules and calculate their 'size'"
   ]
  },
  {
   "cell_type": "code",
   "execution_count": 266,
   "metadata": {
    "ExecuteTime": {
     "end_time": "2023-07-03T03:45:57.445019Z",
     "start_time": "2023-07-03T03:45:08.273090Z"
    }
   },
   "outputs": [],
   "source": [
    "rules_checkpoint_file = './checkpoints/rules'\n",
    "if os.path.exists(rules_checkpoint_file):\n",
    "    file = open(rules_checkpoint_file, 'rb')\n",
    "    rules = pickle.load(file)\n",
    "    file.close()\n",
    "else:\n",
    "    file = open(rules_checkpoint_file, 'wb')\n",
    "    rules = load_rules()\n",
    "    pickle.dump(rules, file)\n",
    "    file.close()"
   ]
  },
  {
   "cell_type": "markdown",
   "metadata": {},
   "source": [
    "## Load the results and calculate their 'size'"
   ]
  },
  {
   "cell_type": "code",
   "execution_count": 283,
   "metadata": {
    "ExecuteTime": {
     "end_time": "2023-07-03T03:50:37.116793Z",
     "start_time": "2023-07-03T03:50:10.234281Z"
    }
   },
   "outputs": [],
   "source": [
    "results = ['out_full_clingo1', 'out_full_clingo2', 'out_full_clingo3', 'out_full_dlv1', 'out_vlog1', 'out_vlog2', 'out_vlog3']\n",
    "for type in results:\n",
    "    for r in rules:\n",
    "        finds = None\n",
    "        result_name = '_'.join(['time', type])\n",
    "        filename = RESULTS_FOLDER + '/' + type + '/' + r['id']\n",
    "        if os.path.exists(filename):\n",
    "            with open(filename, 'rb') as file:\n",
    "                output = file.readlines()\n",
    "                if type.find('clingo') != -1:\n",
    "                    time_limit_reached = len(list(filter(lambda x: re.match('^TIME LIMIT', x.decode()), output))) > 0\n",
    "\n",
    "                if time_limit_reached:\n",
    "                    finds = None\n",
    "                else:\n",
    "                    if type.find('clingo') != -1:\n",
    "                        finds = list( filter(lambda x: re.match('^Time', x.decode()), output) )\n",
    "                        times = list(map(lambda x: re.search('^Time\\s+:\\s*(.*)s\\s\\(', x.decode()).group(1), finds))\n",
    "                    else:\n",
    "                        finds = list( filter(lambda x: re.match('^\\.\\.\\. finished in', x.decode()), output) )\n",
    "                        times = list(map(lambda x: re.search('^\\.\\.\\. finished in (\\d+)ms\\s\\(', x.decode()).group(1), finds))\n",
    "                    finds = times[0] if len(times) > 0 else None\n",
    "        r[ result_name ] = finds\n"
   ]
  },
  {
   "cell_type": "markdown",
   "metadata": {},
   "source": [
    "## Load the data in a pandas dataframe"
   ]
  },
  {
   "cell_type": "code",
   "execution_count": 284,
   "metadata": {
    "ExecuteTime": {
     "end_time": "2023-07-03T03:50:37.236383Z",
     "start_time": "2023-07-03T03:50:37.163965Z"
    }
   },
   "outputs": [],
   "source": [
    "dataset = pd.json_normalize(rules)"
   ]
  },
  {
   "cell_type": "code",
   "execution_count": 286,
   "metadata": {
    "ExecuteTime": {
     "end_time": "2023-07-03T03:50:46.802130Z",
     "start_time": "2023-07-03T03:50:46.762193Z"
    }
   },
   "outputs": [
    {
     "data": {
      "text/html": [
       "<div>\n",
       "<style scoped>\n",
       "    .dataframe tbody tr th:only-of-type {\n",
       "        vertical-align: middle;\n",
       "    }\n",
       "\n",
       "    .dataframe tbody tr th {\n",
       "        vertical-align: top;\n",
       "    }\n",
       "\n",
       "    .dataframe thead th {\n",
       "        text-align: right;\n",
       "    }\n",
       "</style>\n",
       "<table border=\"1\" class=\"dataframe\">\n",
       "  <thead>\n",
       "    <tr style=\"text-align: right;\">\n",
       "      <th></th>\n",
       "      <th>id</th>\n",
       "      <th>rules</th>\n",
       "      <th>time_out_full_clingo1</th>\n",
       "      <th>time_out_full_clingo2</th>\n",
       "      <th>time_out_full_clingo3</th>\n",
       "      <th>time_out_full_dlv1</th>\n",
       "      <th>time_out_vlog1</th>\n",
       "      <th>time_out_vlog2</th>\n",
       "      <th>time_out_vlog3</th>\n",
       "    </tr>\n",
       "  </thead>\n",
       "  <tbody>\n",
       "    <tr>\n",
       "      <th>0</th>\n",
       "      <td>3b4e270b-0efb-471f-b7b8-a8a4578e79ce_ter_wrenc...</td>\n",
       "      <td>353</td>\n",
       "      <td>0.016</td>\n",
       "      <td>0.018</td>\n",
       "      <td>0.015</td>\n",
       "      <td>39</td>\n",
       "      <td>None</td>\n",
       "      <td>None</td>\n",
       "      <td>None</td>\n",
       "    </tr>\n",
       "    <tr>\n",
       "      <th>1</th>\n",
       "      <td>674f39d8-fe7f-4bb6-b866-bdb6abc6ae90_functions...</td>\n",
       "      <td>1569</td>\n",
       "      <td>0.000</td>\n",
       "      <td>0.000</td>\n",
       "      <td>0.000</td>\n",
       "      <td>8</td>\n",
       "      <td>1</td>\n",
       "      <td>0</td>\n",
       "      <td>1</td>\n",
       "    </tr>\n",
       "    <tr>\n",
       "      <th>2</th>\n",
       "      <td>0b3204d4-768b-4e1f-b8a6-33d629d5ae91_xaosimple...</td>\n",
       "      <td>6480</td>\n",
       "      <td>0.146</td>\n",
       "      <td>0.146</td>\n",
       "      <td>0.151</td>\n",
       "      <td>269</td>\n",
       "      <td>193</td>\n",
       "      <td>188</td>\n",
       "      <td>203</td>\n",
       "    </tr>\n",
       "    <tr>\n",
       "      <th>3</th>\n",
       "      <td>6e41b96f-71e7-42e6-a643-0a84d3b6f6fc_opl.owl.o...</td>\n",
       "      <td>1997</td>\n",
       "      <td>None</td>\n",
       "      <td>None</td>\n",
       "      <td>None</td>\n",
       "      <td>None</td>\n",
       "      <td>None</td>\n",
       "      <td>None</td>\n",
       "      <td>None</td>\n",
       "    </tr>\n",
       "    <tr>\n",
       "      <th>4</th>\n",
       "      <td>4d2e22bf-487b-47a4-8418-c16f8fe5c826_owlfacts....</td>\n",
       "      <td>59</td>\n",
       "      <td>0.004</td>\n",
       "      <td>0.004</td>\n",
       "      <td>0.005</td>\n",
       "      <td>18</td>\n",
       "      <td>None</td>\n",
       "      <td>None</td>\n",
       "      <td>None</td>\n",
       "    </tr>\n",
       "    <tr>\n",
       "      <th>...</th>\n",
       "      <td>...</td>\n",
       "      <td>...</td>\n",
       "      <td>...</td>\n",
       "      <td>...</td>\n",
       "      <td>...</td>\n",
       "      <td>...</td>\n",
       "      <td>...</td>\n",
       "      <td>...</td>\n",
       "      <td>...</td>\n",
       "    </tr>\n",
       "    <tr>\n",
       "      <th>20356</th>\n",
       "      <td>3a8f019a-326c-4596-ba73-a8508e78b7b0_ChangeOnt...</td>\n",
       "      <td>189</td>\n",
       "      <td>0.009</td>\n",
       "      <td>0.010</td>\n",
       "      <td>0.010</td>\n",
       "      <td>19</td>\n",
       "      <td>6</td>\n",
       "      <td>5</td>\n",
       "      <td>6</td>\n",
       "    </tr>\n",
       "    <tr>\n",
       "      <th>20357</th>\n",
       "      <td>3fb09e67-8d83-438e-a8c6-dc276dd958b3_37721.rdf...</td>\n",
       "      <td>7</td>\n",
       "      <td>0.000</td>\n",
       "      <td>0.000</td>\n",
       "      <td>0.000</td>\n",
       "      <td>9</td>\n",
       "      <td>2</td>\n",
       "      <td>2</td>\n",
       "      <td>2</td>\n",
       "    </tr>\n",
       "    <tr>\n",
       "      <th>20358</th>\n",
       "      <td>3bb1edc8-868c-4442-9d18-1ed0e1584757_2v2_Turtl...</td>\n",
       "      <td>183</td>\n",
       "      <td>None</td>\n",
       "      <td>None</td>\n",
       "      <td>None</td>\n",
       "      <td>None</td>\n",
       "      <td>30010</td>\n",
       "      <td>30005</td>\n",
       "      <td>30004</td>\n",
       "    </tr>\n",
       "    <tr>\n",
       "      <th>20359</th>\n",
       "      <td>0e3cd458-420f-4dfb-88f7-06dfcfa12805_lusunipro...</td>\n",
       "      <td>5682</td>\n",
       "      <td>0.104</td>\n",
       "      <td>0.100</td>\n",
       "      <td>0.102</td>\n",
       "      <td>417</td>\n",
       "      <td>134</td>\n",
       "      <td>140</td>\n",
       "      <td>134</td>\n",
       "    </tr>\n",
       "    <tr>\n",
       "      <th>20360</th>\n",
       "      <td>82a2b4c8-e8c8-4a2c-970a-9352ebb0591c_taontolog...</td>\n",
       "      <td>0</td>\n",
       "      <td>0.000</td>\n",
       "      <td>0.000</td>\n",
       "      <td>0.000</td>\n",
       "      <td>33</td>\n",
       "      <td>0</td>\n",
       "      <td>0</td>\n",
       "      <td>0</td>\n",
       "    </tr>\n",
       "  </tbody>\n",
       "</table>\n",
       "<p>20361 rows × 9 columns</p>\n",
       "</div>"
      ],
      "text/plain": [
       "                                                      id  rules  \\\n",
       "0      3b4e270b-0efb-471f-b7b8-a8a4578e79ce_ter_wrenc...    353   \n",
       "1      674f39d8-fe7f-4bb6-b866-bdb6abc6ae90_functions...   1569   \n",
       "2      0b3204d4-768b-4e1f-b8a6-33d629d5ae91_xaosimple...   6480   \n",
       "3      6e41b96f-71e7-42e6-a643-0a84d3b6f6fc_opl.owl.o...   1997   \n",
       "4      4d2e22bf-487b-47a4-8418-c16f8fe5c826_owlfacts....     59   \n",
       "...                                                  ...    ...   \n",
       "20356  3a8f019a-326c-4596-ba73-a8508e78b7b0_ChangeOnt...    189   \n",
       "20357  3fb09e67-8d83-438e-a8c6-dc276dd958b3_37721.rdf...      7   \n",
       "20358  3bb1edc8-868c-4442-9d18-1ed0e1584757_2v2_Turtl...    183   \n",
       "20359  0e3cd458-420f-4dfb-88f7-06dfcfa12805_lusunipro...   5682   \n",
       "20360  82a2b4c8-e8c8-4a2c-970a-9352ebb0591c_taontolog...      0   \n",
       "\n",
       "      time_out_full_clingo1 time_out_full_clingo2 time_out_full_clingo3  \\\n",
       "0                     0.016                 0.018                 0.015   \n",
       "1                     0.000                 0.000                 0.000   \n",
       "2                     0.146                 0.146                 0.151   \n",
       "3                      None                  None                  None   \n",
       "4                     0.004                 0.004                 0.005   \n",
       "...                     ...                   ...                   ...   \n",
       "20356                 0.009                 0.010                 0.010   \n",
       "20357                 0.000                 0.000                 0.000   \n",
       "20358                  None                  None                  None   \n",
       "20359                 0.104                 0.100                 0.102   \n",
       "20360                 0.000                 0.000                 0.000   \n",
       "\n",
       "      time_out_full_dlv1 time_out_vlog1 time_out_vlog2 time_out_vlog3  \n",
       "0                     39           None           None           None  \n",
       "1                      8              1              0              1  \n",
       "2                    269            193            188            203  \n",
       "3                   None           None           None           None  \n",
       "4                     18           None           None           None  \n",
       "...                  ...            ...            ...            ...  \n",
       "20356                 19              6              5              6  \n",
       "20357                  9              2              2              2  \n",
       "20358               None          30010          30005          30004  \n",
       "20359                417            134            140            134  \n",
       "20360                 33              0              0              0  \n",
       "\n",
       "[20361 rows x 9 columns]"
      ]
     },
     "execution_count": 286,
     "metadata": {},
     "output_type": "execute_result"
    }
   ],
   "source": [
    "dataset"
   ]
  },
  {
   "cell_type": "code",
   "execution_count": 287,
   "metadata": {
    "ExecuteTime": {
     "end_time": "2023-07-03T03:50:51.974290Z",
     "start_time": "2023-07-03T03:50:51.846361Z"
    }
   },
   "outputs": [],
   "source": [
    "\n",
    "dataset['clingo_avg'] = (dataset.filter(like='clingo').apply(pd.to_numeric, errors='coerce') * 1000 ).mean(axis=1)\n",
    "dataset['vlog_avg'] = (dataset.filter(like='vlog').apply(pd.to_numeric, errors='coerce') * 1000 ).mean(axis=1)\n",
    "dataset['dlv_avg'] = dataset.filter(like='dlv').apply(pd.to_numeric, errors='coerce').mean(axis=1)\n",
    "\n",
    "dataset['clingo_std'] = dataset.filter(like='clingo').apply(pd.to_numeric, errors='coerce').std(axis=1)\n",
    "dataset['vlog_std'] = dataset.filter(like='vlog').apply(pd.to_numeric, errors='coerce').std(axis=1)\n",
    "dataset['dlv_std'] = dataset.filter(like='dlv').apply(pd.to_numeric, errors='coerce').std(axis=1)\n"
   ]
  },
  {
   "cell_type": "code",
   "execution_count": 288,
   "metadata": {
    "ExecuteTime": {
     "end_time": "2023-07-03T03:50:52.623572Z",
     "start_time": "2023-07-03T03:50:52.613930Z"
    }
   },
   "outputs": [
    {
     "data": {
      "text/html": [
       "<div>\n",
       "<style scoped>\n",
       "    .dataframe tbody tr th:only-of-type {\n",
       "        vertical-align: middle;\n",
       "    }\n",
       "\n",
       "    .dataframe tbody tr th {\n",
       "        vertical-align: top;\n",
       "    }\n",
       "\n",
       "    .dataframe thead th {\n",
       "        text-align: right;\n",
       "    }\n",
       "</style>\n",
       "<table border=\"1\" class=\"dataframe\">\n",
       "  <thead>\n",
       "    <tr style=\"text-align: right;\">\n",
       "      <th></th>\n",
       "      <th>id</th>\n",
       "      <th>rules</th>\n",
       "      <th>time_out_full_clingo1</th>\n",
       "      <th>time_out_full_clingo2</th>\n",
       "      <th>time_out_full_clingo3</th>\n",
       "      <th>time_out_full_dlv1</th>\n",
       "      <th>time_out_vlog1</th>\n",
       "      <th>time_out_vlog2</th>\n",
       "      <th>time_out_vlog3</th>\n",
       "      <th>clingo_avg</th>\n",
       "      <th>vlog_avg</th>\n",
       "      <th>dlv_avg</th>\n",
       "      <th>clingo_std</th>\n",
       "      <th>vlog_std</th>\n",
       "      <th>dlv_std</th>\n",
       "    </tr>\n",
       "  </thead>\n",
       "  <tbody>\n",
       "    <tr>\n",
       "      <th>0</th>\n",
       "      <td>3b4e270b-0efb-471f-b7b8-a8a4578e79ce_ter_wrenc...</td>\n",
       "      <td>353</td>\n",
       "      <td>0.016</td>\n",
       "      <td>0.018</td>\n",
       "      <td>0.015</td>\n",
       "      <td>39</td>\n",
       "      <td>None</td>\n",
       "      <td>None</td>\n",
       "      <td>None</td>\n",
       "      <td>16.333333</td>\n",
       "      <td>NaN</td>\n",
       "      <td>39.0</td>\n",
       "      <td>8.1585</td>\n",
       "      <td>NaN</td>\n",
       "      <td>0.0</td>\n",
       "    </tr>\n",
       "    <tr>\n",
       "      <th>1</th>\n",
       "      <td>674f39d8-fe7f-4bb6-b866-bdb6abc6ae90_functions...</td>\n",
       "      <td>1569</td>\n",
       "      <td>0.000</td>\n",
       "      <td>0.000</td>\n",
       "      <td>0.000</td>\n",
       "      <td>8</td>\n",
       "      <td>1</td>\n",
       "      <td>0</td>\n",
       "      <td>1</td>\n",
       "      <td>0.000000</td>\n",
       "      <td>6.666667e+02</td>\n",
       "      <td>8.0</td>\n",
       "      <td>0.0000</td>\n",
       "      <td>3.330003e+02</td>\n",
       "      <td>0.0</td>\n",
       "    </tr>\n",
       "    <tr>\n",
       "      <th>2</th>\n",
       "      <td>0b3204d4-768b-4e1f-b8a6-33d629d5ae91_xaosimple...</td>\n",
       "      <td>6480</td>\n",
       "      <td>0.146</td>\n",
       "      <td>0.146</td>\n",
       "      <td>0.151</td>\n",
       "      <td>269</td>\n",
       "      <td>193</td>\n",
       "      <td>188</td>\n",
       "      <td>203</td>\n",
       "      <td>147.666667</td>\n",
       "      <td>1.946667e+05</td>\n",
       "      <td>269.0</td>\n",
       "      <td>73.7595</td>\n",
       "      <td>9.723600e+04</td>\n",
       "      <td>0.0</td>\n",
       "    </tr>\n",
       "    <tr>\n",
       "      <th>3</th>\n",
       "      <td>6e41b96f-71e7-42e6-a643-0a84d3b6f6fc_opl.owl.o...</td>\n",
       "      <td>1997</td>\n",
       "      <td>None</td>\n",
       "      <td>None</td>\n",
       "      <td>None</td>\n",
       "      <td>None</td>\n",
       "      <td>None</td>\n",
       "      <td>None</td>\n",
       "      <td>None</td>\n",
       "      <td>NaN</td>\n",
       "      <td>NaN</td>\n",
       "      <td>NaN</td>\n",
       "      <td>NaN</td>\n",
       "      <td>NaN</td>\n",
       "      <td>NaN</td>\n",
       "    </tr>\n",
       "    <tr>\n",
       "      <th>4</th>\n",
       "      <td>4d2e22bf-487b-47a4-8418-c16f8fe5c826_owlfacts....</td>\n",
       "      <td>59</td>\n",
       "      <td>0.004</td>\n",
       "      <td>0.004</td>\n",
       "      <td>0.005</td>\n",
       "      <td>18</td>\n",
       "      <td>None</td>\n",
       "      <td>None</td>\n",
       "      <td>None</td>\n",
       "      <td>4.333333</td>\n",
       "      <td>NaN</td>\n",
       "      <td>18.0</td>\n",
       "      <td>2.1645</td>\n",
       "      <td>NaN</td>\n",
       "      <td>0.0</td>\n",
       "    </tr>\n",
       "    <tr>\n",
       "      <th>...</th>\n",
       "      <td>...</td>\n",
       "      <td>...</td>\n",
       "      <td>...</td>\n",
       "      <td>...</td>\n",
       "      <td>...</td>\n",
       "      <td>...</td>\n",
       "      <td>...</td>\n",
       "      <td>...</td>\n",
       "      <td>...</td>\n",
       "      <td>...</td>\n",
       "      <td>...</td>\n",
       "      <td>...</td>\n",
       "      <td>...</td>\n",
       "      <td>...</td>\n",
       "      <td>...</td>\n",
       "    </tr>\n",
       "    <tr>\n",
       "      <th>20356</th>\n",
       "      <td>3a8f019a-326c-4596-ba73-a8508e78b7b0_ChangeOnt...</td>\n",
       "      <td>189</td>\n",
       "      <td>0.009</td>\n",
       "      <td>0.010</td>\n",
       "      <td>0.010</td>\n",
       "      <td>19</td>\n",
       "      <td>6</td>\n",
       "      <td>5</td>\n",
       "      <td>6</td>\n",
       "      <td>9.666667</td>\n",
       "      <td>5.666667e+03</td>\n",
       "      <td>19.0</td>\n",
       "      <td>4.8285</td>\n",
       "      <td>2.830500e+03</td>\n",
       "      <td>0.0</td>\n",
       "    </tr>\n",
       "    <tr>\n",
       "      <th>20357</th>\n",
       "      <td>3fb09e67-8d83-438e-a8c6-dc276dd958b3_37721.rdf...</td>\n",
       "      <td>7</td>\n",
       "      <td>0.000</td>\n",
       "      <td>0.000</td>\n",
       "      <td>0.000</td>\n",
       "      <td>9</td>\n",
       "      <td>2</td>\n",
       "      <td>2</td>\n",
       "      <td>2</td>\n",
       "      <td>0.000000</td>\n",
       "      <td>2.000000e+03</td>\n",
       "      <td>9.0</td>\n",
       "      <td>0.0000</td>\n",
       "      <td>9.990000e+02</td>\n",
       "      <td>0.0</td>\n",
       "    </tr>\n",
       "    <tr>\n",
       "      <th>20358</th>\n",
       "      <td>3bb1edc8-868c-4442-9d18-1ed0e1584757_2v2_Turtl...</td>\n",
       "      <td>183</td>\n",
       "      <td>None</td>\n",
       "      <td>None</td>\n",
       "      <td>None</td>\n",
       "      <td>None</td>\n",
       "      <td>30010</td>\n",
       "      <td>30005</td>\n",
       "      <td>30004</td>\n",
       "      <td>NaN</td>\n",
       "      <td>3.000633e+07</td>\n",
       "      <td>NaN</td>\n",
       "      <td>NaN</td>\n",
       "      <td>1.498816e+07</td>\n",
       "      <td>NaN</td>\n",
       "    </tr>\n",
       "    <tr>\n",
       "      <th>20359</th>\n",
       "      <td>0e3cd458-420f-4dfb-88f7-06dfcfa12805_lusunipro...</td>\n",
       "      <td>5682</td>\n",
       "      <td>0.104</td>\n",
       "      <td>0.100</td>\n",
       "      <td>0.102</td>\n",
       "      <td>417</td>\n",
       "      <td>134</td>\n",
       "      <td>140</td>\n",
       "      <td>134</td>\n",
       "      <td>102.000000</td>\n",
       "      <td>1.360000e+05</td>\n",
       "      <td>417.0</td>\n",
       "      <td>50.9490</td>\n",
       "      <td>6.793200e+04</td>\n",
       "      <td>0.0</td>\n",
       "    </tr>\n",
       "    <tr>\n",
       "      <th>20360</th>\n",
       "      <td>82a2b4c8-e8c8-4a2c-970a-9352ebb0591c_taontolog...</td>\n",
       "      <td>0</td>\n",
       "      <td>0.000</td>\n",
       "      <td>0.000</td>\n",
       "      <td>0.000</td>\n",
       "      <td>33</td>\n",
       "      <td>0</td>\n",
       "      <td>0</td>\n",
       "      <td>0</td>\n",
       "      <td>0.000000</td>\n",
       "      <td>0.000000e+00</td>\n",
       "      <td>33.0</td>\n",
       "      <td>0.0000</td>\n",
       "      <td>0.000000e+00</td>\n",
       "      <td>0.0</td>\n",
       "    </tr>\n",
       "  </tbody>\n",
       "</table>\n",
       "<p>20361 rows × 15 columns</p>\n",
       "</div>"
      ],
      "text/plain": [
       "                                                      id  rules  \\\n",
       "0      3b4e270b-0efb-471f-b7b8-a8a4578e79ce_ter_wrenc...    353   \n",
       "1      674f39d8-fe7f-4bb6-b866-bdb6abc6ae90_functions...   1569   \n",
       "2      0b3204d4-768b-4e1f-b8a6-33d629d5ae91_xaosimple...   6480   \n",
       "3      6e41b96f-71e7-42e6-a643-0a84d3b6f6fc_opl.owl.o...   1997   \n",
       "4      4d2e22bf-487b-47a4-8418-c16f8fe5c826_owlfacts....     59   \n",
       "...                                                  ...    ...   \n",
       "20356  3a8f019a-326c-4596-ba73-a8508e78b7b0_ChangeOnt...    189   \n",
       "20357  3fb09e67-8d83-438e-a8c6-dc276dd958b3_37721.rdf...      7   \n",
       "20358  3bb1edc8-868c-4442-9d18-1ed0e1584757_2v2_Turtl...    183   \n",
       "20359  0e3cd458-420f-4dfb-88f7-06dfcfa12805_lusunipro...   5682   \n",
       "20360  82a2b4c8-e8c8-4a2c-970a-9352ebb0591c_taontolog...      0   \n",
       "\n",
       "      time_out_full_clingo1 time_out_full_clingo2 time_out_full_clingo3  \\\n",
       "0                     0.016                 0.018                 0.015   \n",
       "1                     0.000                 0.000                 0.000   \n",
       "2                     0.146                 0.146                 0.151   \n",
       "3                      None                  None                  None   \n",
       "4                     0.004                 0.004                 0.005   \n",
       "...                     ...                   ...                   ...   \n",
       "20356                 0.009                 0.010                 0.010   \n",
       "20357                 0.000                 0.000                 0.000   \n",
       "20358                  None                  None                  None   \n",
       "20359                 0.104                 0.100                 0.102   \n",
       "20360                 0.000                 0.000                 0.000   \n",
       "\n",
       "      time_out_full_dlv1 time_out_vlog1 time_out_vlog2 time_out_vlog3  \\\n",
       "0                     39           None           None           None   \n",
       "1                      8              1              0              1   \n",
       "2                    269            193            188            203   \n",
       "3                   None           None           None           None   \n",
       "4                     18           None           None           None   \n",
       "...                  ...            ...            ...            ...   \n",
       "20356                 19              6              5              6   \n",
       "20357                  9              2              2              2   \n",
       "20358               None          30010          30005          30004   \n",
       "20359                417            134            140            134   \n",
       "20360                 33              0              0              0   \n",
       "\n",
       "       clingo_avg      vlog_avg  dlv_avg  clingo_std      vlog_std  dlv_std  \n",
       "0       16.333333           NaN     39.0      8.1585           NaN      0.0  \n",
       "1        0.000000  6.666667e+02      8.0      0.0000  3.330003e+02      0.0  \n",
       "2      147.666667  1.946667e+05    269.0     73.7595  9.723600e+04      0.0  \n",
       "3             NaN           NaN      NaN         NaN           NaN      NaN  \n",
       "4        4.333333           NaN     18.0      2.1645           NaN      0.0  \n",
       "...           ...           ...      ...         ...           ...      ...  \n",
       "20356    9.666667  5.666667e+03     19.0      4.8285  2.830500e+03      0.0  \n",
       "20357    0.000000  2.000000e+03      9.0      0.0000  9.990000e+02      0.0  \n",
       "20358         NaN  3.000633e+07      NaN         NaN  1.498816e+07      NaN  \n",
       "20359  102.000000  1.360000e+05    417.0     50.9490  6.793200e+04      0.0  \n",
       "20360    0.000000  0.000000e+00     33.0      0.0000  0.000000e+00      0.0  \n",
       "\n",
       "[20361 rows x 15 columns]"
      ]
     },
     "execution_count": 288,
     "metadata": {},
     "output_type": "execute_result"
    }
   ],
   "source": [
    "dataset"
   ]
  },
  {
   "cell_type": "markdown",
   "metadata": {},
   "source": [
    "## Subset the data\n",
    "\n",
    "Remove the instances where the time limit was reached, data is missing, or the stdev of the results is too high"
   ]
  },
  {
   "cell_type": "code",
   "execution_count": 289,
   "metadata": {
    "ExecuteTime": {
     "end_time": "2023-07-03T03:50:54.442551Z",
     "start_time": "2023-07-03T03:50:54.405934Z"
    }
   },
   "outputs": [],
   "source": [
    "with_disjunction_important_columns = ['id', 'rules', 'clingo_avg', 'dlv_avg']\n",
    "wo_disjunction_important_columns = ['id', 'rules', 'clingo_avg', 'dlv_avg', 'vlog_avg']\n",
    "\n",
    "sdwod = sub_dataset_wo_disjunction = dataset.dropna(subset=wo_disjunction_important_columns)\n",
    "sdwd = sub_dataset_with_disjunction = dataset.dropna(subset=with_disjunction_important_columns)"
   ]
  },
  {
   "cell_type": "code",
   "execution_count": 290,
   "metadata": {
    "ExecuteTime": {
     "end_time": "2023-07-03T03:50:55.219262Z",
     "start_time": "2023-07-03T03:50:55.098461Z"
    }
   },
   "outputs": [],
   "source": [
    "sdwod = sub_dataset_wo_disjunction = sdwod.where((dataset['clingo_std'] < 0.05) | (dataset['dlv_std'] < 0.05) | (dataset['vlog_std'] < 0.05))\n",
    "sdwd = sub_dataset_with_disjunction = sdwd.where((dataset['clingo_std'] < 0.05) | (dataset['dlv_std'] < 0.05))\n",
    "\n",
    "sdwod = sub_dataset_wo_disjunction = sdwod.where((dataset['clingo_avg'] > 0) & (dataset['dlv_avg'] > 0) & (dataset['vlog_avg'] > 0))\n",
    "sdwd = sub_dataset_with_disjunction = sdwd.where((dataset['clingo_avg'] > 0) & (dataset['dlv_avg'] > 0))\n",
    "\n",
    "sdwod = sub_dataset_wo_disjunction = dataset.dropna(subset=wo_disjunction_important_columns)\n",
    "sdwd = sub_dataset_with_disjunction = dataset.dropna(subset=with_disjunction_important_columns)\n",
    "\n"
   ]
  },
  {
   "cell_type": "code",
   "execution_count": 291,
   "metadata": {
    "ExecuteTime": {
     "end_time": "2023-07-03T03:50:56.008820Z",
     "start_time": "2023-07-03T03:50:55.988000Z"
    }
   },
   "outputs": [
    {
     "data": {
      "text/html": [
       "<div>\n",
       "<style scoped>\n",
       "    .dataframe tbody tr th:only-of-type {\n",
       "        vertical-align: middle;\n",
       "    }\n",
       "\n",
       "    .dataframe tbody tr th {\n",
       "        vertical-align: top;\n",
       "    }\n",
       "\n",
       "    .dataframe thead th {\n",
       "        text-align: right;\n",
       "    }\n",
       "</style>\n",
       "<table border=\"1\" class=\"dataframe\">\n",
       "  <thead>\n",
       "    <tr style=\"text-align: right;\">\n",
       "      <th></th>\n",
       "      <th>id</th>\n",
       "      <th>rules</th>\n",
       "      <th>time_out_full_clingo1</th>\n",
       "      <th>time_out_full_clingo2</th>\n",
       "      <th>time_out_full_clingo3</th>\n",
       "      <th>time_out_full_dlv1</th>\n",
       "      <th>time_out_vlog1</th>\n",
       "      <th>time_out_vlog2</th>\n",
       "      <th>time_out_vlog3</th>\n",
       "      <th>clingo_avg</th>\n",
       "      <th>vlog_avg</th>\n",
       "      <th>dlv_avg</th>\n",
       "      <th>clingo_std</th>\n",
       "      <th>vlog_std</th>\n",
       "      <th>dlv_std</th>\n",
       "    </tr>\n",
       "  </thead>\n",
       "  <tbody>\n",
       "    <tr>\n",
       "      <th>0</th>\n",
       "      <td>3b4e270b-0efb-471f-b7b8-a8a4578e79ce_ter_wrenc...</td>\n",
       "      <td>353</td>\n",
       "      <td>0.016</td>\n",
       "      <td>0.018</td>\n",
       "      <td>0.015</td>\n",
       "      <td>39</td>\n",
       "      <td>None</td>\n",
       "      <td>None</td>\n",
       "      <td>None</td>\n",
       "      <td>16.333333</td>\n",
       "      <td>NaN</td>\n",
       "      <td>39.0</td>\n",
       "      <td>8.1585</td>\n",
       "      <td>NaN</td>\n",
       "      <td>0.0</td>\n",
       "    </tr>\n",
       "    <tr>\n",
       "      <th>1</th>\n",
       "      <td>674f39d8-fe7f-4bb6-b866-bdb6abc6ae90_functions...</td>\n",
       "      <td>1569</td>\n",
       "      <td>0.000</td>\n",
       "      <td>0.000</td>\n",
       "      <td>0.000</td>\n",
       "      <td>8</td>\n",
       "      <td>1</td>\n",
       "      <td>0</td>\n",
       "      <td>1</td>\n",
       "      <td>0.000000</td>\n",
       "      <td>666.666667</td>\n",
       "      <td>8.0</td>\n",
       "      <td>0.0000</td>\n",
       "      <td>333.000334</td>\n",
       "      <td>0.0</td>\n",
       "    </tr>\n",
       "    <tr>\n",
       "      <th>2</th>\n",
       "      <td>0b3204d4-768b-4e1f-b8a6-33d629d5ae91_xaosimple...</td>\n",
       "      <td>6480</td>\n",
       "      <td>0.146</td>\n",
       "      <td>0.146</td>\n",
       "      <td>0.151</td>\n",
       "      <td>269</td>\n",
       "      <td>193</td>\n",
       "      <td>188</td>\n",
       "      <td>203</td>\n",
       "      <td>147.666667</td>\n",
       "      <td>194666.666667</td>\n",
       "      <td>269.0</td>\n",
       "      <td>73.7595</td>\n",
       "      <td>97236.000200</td>\n",
       "      <td>0.0</td>\n",
       "    </tr>\n",
       "    <tr>\n",
       "      <th>4</th>\n",
       "      <td>4d2e22bf-487b-47a4-8418-c16f8fe5c826_owlfacts....</td>\n",
       "      <td>59</td>\n",
       "      <td>0.004</td>\n",
       "      <td>0.004</td>\n",
       "      <td>0.005</td>\n",
       "      <td>18</td>\n",
       "      <td>None</td>\n",
       "      <td>None</td>\n",
       "      <td>None</td>\n",
       "      <td>4.333333</td>\n",
       "      <td>NaN</td>\n",
       "      <td>18.0</td>\n",
       "      <td>2.1645</td>\n",
       "      <td>NaN</td>\n",
       "      <td>0.0</td>\n",
       "    </tr>\n",
       "    <tr>\n",
       "      <th>5</th>\n",
       "      <td>db8458b9-6ce0-4bf5-81ea-d9f41ddffcd1_swrl.rdf....</td>\n",
       "      <td>26</td>\n",
       "      <td>0.002</td>\n",
       "      <td>0.002</td>\n",
       "      <td>0.001</td>\n",
       "      <td>10</td>\n",
       "      <td>2</td>\n",
       "      <td>2</td>\n",
       "      <td>2</td>\n",
       "      <td>1.666667</td>\n",
       "      <td>2000.000000</td>\n",
       "      <td>10.0</td>\n",
       "      <td>0.8325</td>\n",
       "      <td>999.000000</td>\n",
       "      <td>0.0</td>\n",
       "    </tr>\n",
       "    <tr>\n",
       "      <th>...</th>\n",
       "      <td>...</td>\n",
       "      <td>...</td>\n",
       "      <td>...</td>\n",
       "      <td>...</td>\n",
       "      <td>...</td>\n",
       "      <td>...</td>\n",
       "      <td>...</td>\n",
       "      <td>...</td>\n",
       "      <td>...</td>\n",
       "      <td>...</td>\n",
       "      <td>...</td>\n",
       "      <td>...</td>\n",
       "      <td>...</td>\n",
       "      <td>...</td>\n",
       "      <td>...</td>\n",
       "    </tr>\n",
       "    <tr>\n",
       "      <th>20355</th>\n",
       "      <td>8af409af-7d64-4e38-8335-e8c93c4c0c1b_ka.owl.ow...</td>\n",
       "      <td>462</td>\n",
       "      <td>0.022</td>\n",
       "      <td>0.026</td>\n",
       "      <td>0.025</td>\n",
       "      <td>29</td>\n",
       "      <td>12</td>\n",
       "      <td>12</td>\n",
       "      <td>12</td>\n",
       "      <td>24.333333</td>\n",
       "      <td>12000.000000</td>\n",
       "      <td>29.0</td>\n",
       "      <td>12.1545</td>\n",
       "      <td>5994.000000</td>\n",
       "      <td>0.0</td>\n",
       "    </tr>\n",
       "    <tr>\n",
       "      <th>20356</th>\n",
       "      <td>3a8f019a-326c-4596-ba73-a8508e78b7b0_ChangeOnt...</td>\n",
       "      <td>189</td>\n",
       "      <td>0.009</td>\n",
       "      <td>0.010</td>\n",
       "      <td>0.010</td>\n",
       "      <td>19</td>\n",
       "      <td>6</td>\n",
       "      <td>5</td>\n",
       "      <td>6</td>\n",
       "      <td>9.666667</td>\n",
       "      <td>5666.666667</td>\n",
       "      <td>19.0</td>\n",
       "      <td>4.8285</td>\n",
       "      <td>2830.500039</td>\n",
       "      <td>0.0</td>\n",
       "    </tr>\n",
       "    <tr>\n",
       "      <th>20357</th>\n",
       "      <td>3fb09e67-8d83-438e-a8c6-dc276dd958b3_37721.rdf...</td>\n",
       "      <td>7</td>\n",
       "      <td>0.000</td>\n",
       "      <td>0.000</td>\n",
       "      <td>0.000</td>\n",
       "      <td>9</td>\n",
       "      <td>2</td>\n",
       "      <td>2</td>\n",
       "      <td>2</td>\n",
       "      <td>0.000000</td>\n",
       "      <td>2000.000000</td>\n",
       "      <td>9.0</td>\n",
       "      <td>0.0000</td>\n",
       "      <td>999.000000</td>\n",
       "      <td>0.0</td>\n",
       "    </tr>\n",
       "    <tr>\n",
       "      <th>20359</th>\n",
       "      <td>0e3cd458-420f-4dfb-88f7-06dfcfa12805_lusunipro...</td>\n",
       "      <td>5682</td>\n",
       "      <td>0.104</td>\n",
       "      <td>0.100</td>\n",
       "      <td>0.102</td>\n",
       "      <td>417</td>\n",
       "      <td>134</td>\n",
       "      <td>140</td>\n",
       "      <td>134</td>\n",
       "      <td>102.000000</td>\n",
       "      <td>136000.000000</td>\n",
       "      <td>417.0</td>\n",
       "      <td>50.9490</td>\n",
       "      <td>67932.000059</td>\n",
       "      <td>0.0</td>\n",
       "    </tr>\n",
       "    <tr>\n",
       "      <th>20360</th>\n",
       "      <td>82a2b4c8-e8c8-4a2c-970a-9352ebb0591c_taontolog...</td>\n",
       "      <td>0</td>\n",
       "      <td>0.000</td>\n",
       "      <td>0.000</td>\n",
       "      <td>0.000</td>\n",
       "      <td>33</td>\n",
       "      <td>0</td>\n",
       "      <td>0</td>\n",
       "      <td>0</td>\n",
       "      <td>0.000000</td>\n",
       "      <td>0.000000</td>\n",
       "      <td>33.0</td>\n",
       "      <td>0.0000</td>\n",
       "      <td>0.000000</td>\n",
       "      <td>0.0</td>\n",
       "    </tr>\n",
       "  </tbody>\n",
       "</table>\n",
       "<p>19485 rows × 15 columns</p>\n",
       "</div>"
      ],
      "text/plain": [
       "                                                      id  rules  \\\n",
       "0      3b4e270b-0efb-471f-b7b8-a8a4578e79ce_ter_wrenc...    353   \n",
       "1      674f39d8-fe7f-4bb6-b866-bdb6abc6ae90_functions...   1569   \n",
       "2      0b3204d4-768b-4e1f-b8a6-33d629d5ae91_xaosimple...   6480   \n",
       "4      4d2e22bf-487b-47a4-8418-c16f8fe5c826_owlfacts....     59   \n",
       "5      db8458b9-6ce0-4bf5-81ea-d9f41ddffcd1_swrl.rdf....     26   \n",
       "...                                                  ...    ...   \n",
       "20355  8af409af-7d64-4e38-8335-e8c93c4c0c1b_ka.owl.ow...    462   \n",
       "20356  3a8f019a-326c-4596-ba73-a8508e78b7b0_ChangeOnt...    189   \n",
       "20357  3fb09e67-8d83-438e-a8c6-dc276dd958b3_37721.rdf...      7   \n",
       "20359  0e3cd458-420f-4dfb-88f7-06dfcfa12805_lusunipro...   5682   \n",
       "20360  82a2b4c8-e8c8-4a2c-970a-9352ebb0591c_taontolog...      0   \n",
       "\n",
       "      time_out_full_clingo1 time_out_full_clingo2 time_out_full_clingo3  \\\n",
       "0                     0.016                 0.018                 0.015   \n",
       "1                     0.000                 0.000                 0.000   \n",
       "2                     0.146                 0.146                 0.151   \n",
       "4                     0.004                 0.004                 0.005   \n",
       "5                     0.002                 0.002                 0.001   \n",
       "...                     ...                   ...                   ...   \n",
       "20355                 0.022                 0.026                 0.025   \n",
       "20356                 0.009                 0.010                 0.010   \n",
       "20357                 0.000                 0.000                 0.000   \n",
       "20359                 0.104                 0.100                 0.102   \n",
       "20360                 0.000                 0.000                 0.000   \n",
       "\n",
       "      time_out_full_dlv1 time_out_vlog1 time_out_vlog2 time_out_vlog3  \\\n",
       "0                     39           None           None           None   \n",
       "1                      8              1              0              1   \n",
       "2                    269            193            188            203   \n",
       "4                     18           None           None           None   \n",
       "5                     10              2              2              2   \n",
       "...                  ...            ...            ...            ...   \n",
       "20355                 29             12             12             12   \n",
       "20356                 19              6              5              6   \n",
       "20357                  9              2              2              2   \n",
       "20359                417            134            140            134   \n",
       "20360                 33              0              0              0   \n",
       "\n",
       "       clingo_avg       vlog_avg  dlv_avg  clingo_std      vlog_std  dlv_std  \n",
       "0       16.333333            NaN     39.0      8.1585           NaN      0.0  \n",
       "1        0.000000     666.666667      8.0      0.0000    333.000334      0.0  \n",
       "2      147.666667  194666.666667    269.0     73.7595  97236.000200      0.0  \n",
       "4        4.333333            NaN     18.0      2.1645           NaN      0.0  \n",
       "5        1.666667    2000.000000     10.0      0.8325    999.000000      0.0  \n",
       "...           ...            ...      ...         ...           ...      ...  \n",
       "20355   24.333333   12000.000000     29.0     12.1545   5994.000000      0.0  \n",
       "20356    9.666667    5666.666667     19.0      4.8285   2830.500039      0.0  \n",
       "20357    0.000000    2000.000000      9.0      0.0000    999.000000      0.0  \n",
       "20359  102.000000  136000.000000    417.0     50.9490  67932.000059      0.0  \n",
       "20360    0.000000       0.000000     33.0      0.0000      0.000000      0.0  \n",
       "\n",
       "[19485 rows x 15 columns]"
      ]
     },
     "execution_count": 291,
     "metadata": {},
     "output_type": "execute_result"
    }
   ],
   "source": [
    "sdwd"
   ]
  },
  {
   "cell_type": "markdown",
   "metadata": {},
   "source": [
    "## Compare Clingo vs DLV (with disjunctions)"
   ]
  },
  {
   "cell_type": "code",
   "execution_count": 292,
   "metadata": {
    "ExecuteTime": {
     "end_time": "2023-07-03T03:50:58.629821Z",
     "start_time": "2023-07-03T03:50:58.300425Z"
    }
   },
   "outputs": [
    {
     "data": {
      "text/plain": [
       "[<matplotlib.lines.Line2D at 0x129b8df70>]"
      ]
     },
     "execution_count": 292,
     "metadata": {},
     "output_type": "execute_result"
    },
    {
     "data": {
      "image/png": "[encoded data removed]",
      "text/plain": [
       "<Figure size 640x480 with 1 Axes>"
      ]
     },
     "metadata": {},
     "output_type": "display_data"
    }
   ],
   "source": [
    "x1 = sub_dataset_with_disjunction['rules']\n",
    "y1 = sub_dataset_with_disjunction['clingo_avg']\n",
    "m, n = np.polyfit(x1, y1, 1)\n",
    "plt.scatter(x1, y1, color='red', s=1)\n",
    "plt.plot(x1, m*x1 + n, color='green', linestyle='--', linewidth=2)\n",
    "\n",
    "x2 = sub_dataset_with_disjunction['rules']\n",
    "y2 = sub_dataset_with_disjunction['dlv_avg']\n",
    "m, n = np.polyfit(x2, y2, 1)\n",
    "plt.scatter(x2, y2, color='blue', s=1)\n",
    "plt.plot(x2, m*x2 + n, color='yellow', linestyle='--', linewidth=2)\n"
   ]
  },
  {
   "cell_type": "markdown",
   "metadata": {},
   "source": [
    "## Compare Clingo vs DLV vs Vlog (without disjunctions)"
   ]
  },
  {
   "cell_type": "code",
   "execution_count": null,
   "metadata": {
    "ExecuteTime": {
     "end_time": "2023-07-03T03:51:01.168526Z",
     "start_time": "2023-07-03T03:51:00.485295Z"
    }
   },
   "outputs": [],
   "source": [
    "x1 = sub_dataset_wo_disjunction['rules']\n",
    "y1 = sub_dataset_wo_disjunction['clingo_avg']\n",
    "m, n = np.polyfit(x1, y1, 1)\n",
    "plt.scatter(x1, y1, color='red', s=1)\n",
    "plt.plot(x1, m * x1 + n, color='green', linestyle='--', linewidth=2)\n",
    "\n",
    "x2 = sub_dataset_wo_disjunction['rules']\n",
    "y2 = sub_dataset_wo_disjunction['dlv_avg']\n",
    "m, n = np.polyfit(x2, y2, 1)\n",
    "plt.scatter(x2, y2, color='blue', s=1)\n",
    "plt.plot(x2, m * x2 + n, color='yellow', linestyle='--', linewidth=2)\n",
    "\n",
    "x3 = sub_dataset_wo_disjunction['rules']\n",
    "y3 = sub_dataset_wo_disjunction['vlog_avg']\n",
    "m, n = np.polyfit(x3, y3, 1)\n",
    "plt.scatter(x3, y3, color='green', s=1)\n",
    "plt.plot(x3, m * x3 + n, color='pink', linestyle='--', linewidth=2)\n"
   ]
  },
  {
   "cell_type": "markdown",
   "metadata": {},
   "source": [
    "## Compare Clingo vs DLV (without disjunctions)\n",
    "\n",
    "Removed Vlog as it was decidedly slower"
   ]
  },
  {
   "cell_type": "code",
   "execution_count": null,
   "metadata": {
    "ExecuteTime": {
     "end_time": "2023-07-03T03:51:02.910886Z",
     "start_time": "2023-07-03T03:51:02.605015Z"
    }
   },
   "outputs": [],
   "source": [
    "x1 = sub_dataset_wo_disjunction['rules']\n",
    "y1 = sub_dataset_wo_disjunction['clingo_avg']\n",
    "m, n = np.polyfit(x1, y1, 1)\n",
    "plt.scatter(x1, y1, color='red', s=1)\n",
    "plt.plot(x1, m * x1 + n, color='green', linestyle='--', linewidth=2)\n",
    "\n",
    "x2 = sub_dataset_wo_disjunction['rules']\n",
    "y2 = sub_dataset_wo_disjunction['dlv_avg']\n",
    "m, n = np.polyfit(x2, y2, 1)\n",
    "plt.scatter(x2, y2, color='blue', s=1)\n",
    "plt.plot(x2, m * x2 + n, color='yellow', linestyle='--', linewidth=2)\n",
    "\n"
   ]
  },
  {
   "cell_type": "markdown",
   "metadata": {},
   "source": [
    "# Conclusion"
   ]
  },
  {
   "cell_type": "markdown",
   "metadata": {},
   "source": [
    "## Without disjunction\n",
    "### Is Clingo faster than both DLV and Vlog?"
   ]
  },
  {
   "cell_type": "code",
   "execution_count": 298,
   "metadata": {
    "ExecuteTime": {
     "end_time": "2023-07-03T03:52:01.142802Z",
     "start_time": "2023-07-03T03:52:01.120761Z"
    }
   },
   "outputs": [
    {
     "data": {
      "text/plain": [
       "True     12773\n",
       "False     1256\n",
       "Name: count, dtype: int64"
      ]
     },
     "execution_count": 298,
     "metadata": {},
     "output_type": "execute_result"
    }
   ],
   "source": [
    "sdwod = sub_dataset_wo_disjunction\n",
    "((sdwod['clingo_avg'] < sdwod['dlv_avg']) & (sdwod['clingo_avg'] < sdwod['vlog_avg'])).value_counts()"
   ]
  },
  {
   "cell_type": "markdown",
   "metadata": {},
   "source": [
    "## With disjunction\n",
    "### Distribution of the fastest execution time"
   ]
  },
  {
   "cell_type": "code",
   "execution_count": 317,
   "metadata": {
    "ExecuteTime": {
     "end_time": "2023-07-03T04:06:56.493747Z",
     "start_time": "2023-07-03T04:06:56.205706Z"
    }
   },
   "outputs": [
    {
     "name": "stdout",
     "output_type": "stream",
     "text": [
      "clingo_avg    19443\n",
      "vlog_avg       1227\n",
      "dlv_avg          42\n",
      "dtype: int64\n"
     ]
    },
    {
     "data": {
      "text/plain": [
       "<Axes: >"
      ]
     },
     "execution_count": 317,
     "metadata": {},
     "output_type": "execute_result"
    },
    {
     "data": {
      "image/png": "[encoded data removed]",
      "text/plain": [
       "<Figure size 640x480 with 1 Axes>"
      ]
     },
     "metadata": {},
     "output_type": "display_data"
    }
   ],
   "source": [
    "sdwd = sub_dataset_with_disjunction\n",
    "fastest_time = sdwd.filter(like='_avg').eq(sdwd.filter(like='_avg').min(axis=1), axis=0).sum()\n",
    "print(fastest_time)\n",
    "fastest_time.plot(kind='bar')\n"
   ]
  },
  {
   "cell_type": "markdown",
   "metadata": {},
   "source": []
  },
  {
   "cell_type": "code",
   "execution_count": 318,
   "metadata": {
    "ExecuteTime": {
     "end_time": "2023-07-03T04:07:10.571785Z",
     "start_time": "2023-07-03T04:07:10.320046Z"
    }
   },
   "outputs": [
    {
     "name": "stdout",
     "output_type": "stream",
     "text": [
      "clingo_avg    14000\n",
      "vlog_avg       1227\n",
      "dlv_avg          29\n",
      "dtype: int64\n"
     ]
    },
    {
     "data": {
      "text/plain": [
       "<Axes: >"
      ]
     },
     "execution_count": 318,
     "metadata": {},
     "output_type": "execute_result"
    },
    {
     "data": {
      "image/png": "[encoded data removed]",
      "text/plain": [
       "<Figure size 640x480 with 1 Axes>"
      ]
     },
     "metadata": {},
     "output_type": "display_data"
    }
   ],
   "source": [
    "sdwod = sub_dataset_wo_disjunction\n",
    "fastest_time = sdwod.filter(like='_avg').eq(sdwod.filter(like='_avg').min(axis=1), axis=0).sum()\n",
    "print(fastest_time)\n",
    "fastest_time.plot(kind='bar')"
   ]
  },
  {
   "cell_type": "code",
   "execution_count": 318,
   "metadata": {
    "ExecuteTime": {
     "end_time": "2023-07-03T04:07:10.904626Z",
     "start_time": "2023-07-03T04:07:10.860826Z"
    }
   },
   "outputs": [],
   "source": []
  },
  {
   "cell_type": "code",
   "execution_count": null,
   "metadata": {},
   "outputs": [],
   "source": []
  }
 ],
 "metadata": {
  "kernelspec": {
   "display_name": "Python 3",
   "language": "python",
   "name": "python3"
  },
  "language_info": {
   "codemirror_mode": {
    "name": "ipython",
    "version": 3
   },
   "file_extension": ".py",
   "mimetype": "text/x-python",
   "name": "python",
   "nbconvert_exporter": "python",
   "pygments_lexer": "ipython3",
   "version": "3.9.16"
  }
 },
 "nbformat": 4,
 "nbformat_minor": 1
}
